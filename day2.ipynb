# import pandas as pd 

# data = pd.read_csv('IRIS.csv')
# filterd_data = data[data['sepal_length']>5]
# print(filterd_data)


# grouped_data = data.groupby('species').sum()
# print(grouped_data)

# grouped_data = data.groupby('sepal_length')['sepal_width'].sum()
# print(grouped_data)

# data1 = data[['petal_length','petal_width','species']]
# data2 = data[['sepal_length','sepal_width','species']]
# print(data1)
# print(data2)

# merged_data = pd.merge(data1,data2,on='species')
# merged_data

# data.fillna(0,inplace=True)
# print(data)

# def process_value(value):
#     process_value = value*2
#     return process_value
# data['processed_coloumn'] = data['sepal_length'].apply(process_value)
# print(data)

# pivot_table = pd.pivot_table(data,values='sepal_length',index='sepal_width',columns='species')
# print(pivot_table)

# data['date_time']=pd.to_datetime(data['sepal_length'])
# data.set_index('date_time', inplace=True)
# resambled_data=data.resample('M').sum()
# print(resambled_data)


import numpy as np
# arr=np.array([1,2,3,4,5,6])
# reshaped_arr=arr.reshape(2,3)
# print(reshaped_arr)

# arr1=np.array([1,2,3])
# arr2=np.array([4,5,6])
# result=arr1+arr2
# print(result)

# arr=np.array([[1,2,3],[4,5,6],[7,8,9]])
# print(arr)


# data=np.array([[1,2],[3,4],[5,6]])
# sum_along_rows=np.sum(data,axis=0)
# sum_along_columns=np.sum(data,axis=1)
# print(sum_along_rows)
# print(sum_along_columns)


# data=np.array([1,2,3,4,5])
# mask=data>2
# filtered_data=data[mask]
# print(filtered_data)


# data=np.array([1,2,2,3,3,3,4,4,4,4])
# unique_elements=np.unique(data)
# elements_counts=np.bincount(data)
# print(unique_elements)
# print(elements_counts)


x=np.array([1,2,3,4,5])
y=np.array([1,2,3,4,5])
coefficients=np.polyfit(x,y,1)
slope,intercept=coefficients
print("slope:",slope)
print("intercept:",intercept)